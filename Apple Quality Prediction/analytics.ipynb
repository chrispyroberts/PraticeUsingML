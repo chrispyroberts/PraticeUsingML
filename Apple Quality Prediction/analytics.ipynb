{
 "cells": [
  {
   "cell_type": "code",
   "execution_count": 8,
   "metadata": {},
   "outputs": [],
   "source": [
    "# Import libraries for data manipulation and visualization\n",
    "import pandas as pd\n",
    "import numpy as np\n",
    "\n",
    "# Import libraries for machine learning modeling and evaluation\n",
    "from sklearn.metrics import accuracy_score, confusion_matrix, precision_score, recall_score, roc_auc_score ,ConfusionMatrixDisplay\n",
    "from sklearn.model_selection import RandomizedSearchCV, train_test_split\n",
    "from scipy.stats import randint\n",
    "\n",
    "# Data visualization\n",
    "import matplotlib.pyplot as plt\n",
    "import seaborn as sns\n",
    "\n",
    "# Import library for decision tree visualization\n",
    "from sklearn import tree"
   ]
  },
  {
   "cell_type": "markdown",
   "metadata": {},
   "source": [
    "## Loading and Initial Exploration of the Dataset\n",
    "\n",
    "In this section, we load the dataset using Pandas and perform an initial exploration to understand its structure, including the number of rows, columns, and types of data it contains."
   ]
  },
  {
   "cell_type": "code",
   "execution_count": 9,
   "metadata": {},
   "outputs": [
    {
     "name": "stdout",
     "output_type": "stream",
     "text": [
      "<class 'pandas.core.frame.DataFrame'>\n",
      "RangeIndex: 4001 entries, 0 to 4000\n",
      "Data columns (total 9 columns):\n",
      " #   Column       Non-Null Count  Dtype  \n",
      "---  ------       --------------  -----  \n",
      " 0   A_id         4000 non-null   float64\n",
      " 1   Size         4000 non-null   float64\n",
      " 2   Weight       4000 non-null   float64\n",
      " 3   Sweetness    4000 non-null   float64\n",
      " 4   Crunchiness  4000 non-null   float64\n",
      " 5   Juiciness    4000 non-null   float64\n",
      " 6   Ripeness     4000 non-null   float64\n",
      " 7   Acidity      4001 non-null   object \n",
      " 8   Quality      4000 non-null   object \n",
      "dtypes: float64(7), object(2)\n",
      "memory usage: 281.4+ KB\n"
     ]
    },
    {
     "data": {
      "text/html": [
       "<div>\n",
       "<style scoped>\n",
       "    .dataframe tbody tr th:only-of-type {\n",
       "        vertical-align: middle;\n",
       "    }\n",
       "\n",
       "    .dataframe tbody tr th {\n",
       "        vertical-align: top;\n",
       "    }\n",
       "\n",
       "    .dataframe thead th {\n",
       "        text-align: right;\n",
       "    }\n",
       "</style>\n",
       "<table border=\"1\" class=\"dataframe\">\n",
       "  <thead>\n",
       "    <tr style=\"text-align: right;\">\n",
       "      <th></th>\n",
       "      <th>A_id</th>\n",
       "      <th>Size</th>\n",
       "      <th>Weight</th>\n",
       "      <th>Sweetness</th>\n",
       "      <th>Crunchiness</th>\n",
       "      <th>Juiciness</th>\n",
       "      <th>Ripeness</th>\n",
       "      <th>Acidity</th>\n",
       "      <th>Quality</th>\n",
       "    </tr>\n",
       "  </thead>\n",
       "  <tbody>\n",
       "    <tr>\n",
       "      <th>0</th>\n",
       "      <td>0.0</td>\n",
       "      <td>-3.970049</td>\n",
       "      <td>-2.512336</td>\n",
       "      <td>5.346330</td>\n",
       "      <td>-1.012009</td>\n",
       "      <td>1.844900</td>\n",
       "      <td>0.329840</td>\n",
       "      <td>-0.491590483</td>\n",
       "      <td>good</td>\n",
       "    </tr>\n",
       "    <tr>\n",
       "      <th>1</th>\n",
       "      <td>1.0</td>\n",
       "      <td>-1.195217</td>\n",
       "      <td>-2.839257</td>\n",
       "      <td>3.664059</td>\n",
       "      <td>1.588232</td>\n",
       "      <td>0.853286</td>\n",
       "      <td>0.867530</td>\n",
       "      <td>-0.722809367</td>\n",
       "      <td>good</td>\n",
       "    </tr>\n",
       "    <tr>\n",
       "      <th>2</th>\n",
       "      <td>2.0</td>\n",
       "      <td>-0.292024</td>\n",
       "      <td>-1.351282</td>\n",
       "      <td>-1.738429</td>\n",
       "      <td>-0.342616</td>\n",
       "      <td>2.838636</td>\n",
       "      <td>-0.038033</td>\n",
       "      <td>2.621636473</td>\n",
       "      <td>bad</td>\n",
       "    </tr>\n",
       "    <tr>\n",
       "      <th>3</th>\n",
       "      <td>3.0</td>\n",
       "      <td>-0.657196</td>\n",
       "      <td>-2.271627</td>\n",
       "      <td>1.324874</td>\n",
       "      <td>-0.097875</td>\n",
       "      <td>3.637970</td>\n",
       "      <td>-3.413761</td>\n",
       "      <td>0.790723217</td>\n",
       "      <td>good</td>\n",
       "    </tr>\n",
       "    <tr>\n",
       "      <th>4</th>\n",
       "      <td>4.0</td>\n",
       "      <td>1.364217</td>\n",
       "      <td>-1.296612</td>\n",
       "      <td>-0.384658</td>\n",
       "      <td>-0.553006</td>\n",
       "      <td>3.030874</td>\n",
       "      <td>-1.303849</td>\n",
       "      <td>0.501984036</td>\n",
       "      <td>good</td>\n",
       "    </tr>\n",
       "  </tbody>\n",
       "</table>\n",
       "</div>"
      ],
      "text/plain": [
       "   A_id      Size    Weight  Sweetness  Crunchiness  Juiciness  Ripeness   \n",
       "0   0.0 -3.970049 -2.512336   5.346330    -1.012009   1.844900  0.329840  \\\n",
       "1   1.0 -1.195217 -2.839257   3.664059     1.588232   0.853286  0.867530   \n",
       "2   2.0 -0.292024 -1.351282  -1.738429    -0.342616   2.838636 -0.038033   \n",
       "3   3.0 -0.657196 -2.271627   1.324874    -0.097875   3.637970 -3.413761   \n",
       "4   4.0  1.364217 -1.296612  -0.384658    -0.553006   3.030874 -1.303849   \n",
       "\n",
       "        Acidity Quality  \n",
       "0  -0.491590483    good  \n",
       "1  -0.722809367    good  \n",
       "2   2.621636473     bad  \n",
       "3   0.790723217    good  \n",
       "4   0.501984036    good  "
      ]
     },
     "metadata": {},
     "output_type": "display_data"
    }
   ],
   "source": [
    "# Load the dataset and display basic information\n",
    "df = pd.read_csv('apple_quality.csv')\n",
    "\n",
    "# Display the DataFrame's info and first few rows to understand its structure\n",
    "df.info()\n",
    "display(df.head())  # Using head() to show the first few rows"
   ]
  },
  {
   "cell_type": "markdown",
   "metadata": {},
   "source": [
    "## Data Cleaning\n",
    "\n",
    "Before proceeding with the analysis, we need to clean the dataset. This includes removing unnecessary columns and addressing any issues with data types.\n"
   ]
  },
  {
   "cell_type": "code",
   "execution_count": 10,
   "metadata": {},
   "outputs": [],
   "source": [
    "# Extract and store the 'Quality' and 'A_id' columns before removal\n",
    "quality_column = df['Quality'][:4000].map({'good': 1, 'bad': 0})\n",
    "id_column = df['A_id'][:4000]\n",
    "\n",
    "# Drop 'Quality' and 'A_id' columns and keep the first 4000 rows\n",
    "df = df.drop(['Quality', 'A_id'], axis=1)[:4000]\n",
    "\n",
    "# Convert 'Acidity' column to numeric as it's incorrectly typed as 'object'\n",
    "df['Acidity'] = pd.to_numeric(df['Acidity'])  # Using errors='coerce' to handle conversion errors\n"
   ]
  },
  {
   "cell_type": "markdown",
   "metadata": {},
   "source": [
    "# Introduction and Potential Use Cases\n",
    "\n",
    "This notebook aims to explore and analyze an Apple Quality dataset to derive valuable insights. Specifically, we'll focus on two primary use cases:\n",
    "\n",
    "1. **Fruit Classification**: Categorizing apples based on their physical attributes and chemical properties.\n",
    "2. **Quality Prediction**: Predicting the quality rating of apples using various attributes, which could be beneficial for quality control and sorting processes.\n"
   ]
  },
  {
   "cell_type": "markdown",
   "metadata": {},
   "source": [
    "# Correlation Matrix"
   ]
  },
  {
   "cell_type": "code",
   "execution_count": 11,
   "metadata": {},
   "outputs": [
    {
     "data": {
      "image/png": "[encoded data removed]",
      "text/plain": [
       "<Figure size 1000x800 with 2 Axes>"
      ]
     },
     "metadata": {},
     "output_type": "display_data"
    }
   ],
   "source": [
    "# Plot a correlation map\n",
    "f,ax = plt.subplots(figsize=(10, 8))\n",
    "sns.heatmap(df.corr(), annot=True, linewidths=.5, fmt= '.1f',ax=ax);"
   ]
  },
  {
   "cell_type": "markdown",
   "metadata": {},
   "source": [
    "## Preparing Data for Modeling\n",
    "\n",
    "Before building our predictive models, we must prepare our dataset. This involves splitting the dataset into training and test sets, which will enable us to train our models and then evaluate their performance on unseen data.\n"
   ]
  },
  {
   "cell_type": "code",
   "execution_count": 12,
   "metadata": {},
   "outputs": [
    {
     "name": "stdout",
     "output_type": "stream",
     "text": [
      "Training set size: 3200 samples\n",
      "Test set size: 800 samples\n"
     ]
    }
   ],
   "source": [
    "# Split the dataset into training (80%) and test (20%) sets\n",
    "X_train, X_test, y_train, y_test = train_test_split(df, quality_column, test_size=0.2, random_state=0)\n",
    "\n",
    "print(f\"Training set size: {X_train.shape[0]} samples\")\n",
    "print(f\"Test set size: {X_test.shape[0]} samples\")"
   ]
  },
  {
   "cell_type": "markdown",
   "metadata": {},
   "source": [
    "## Selecting a Machine Learning Model\n",
    "\n",
    "In selecting a machine learning model for predicting apple quality, several factors need to be considered, including accuracy, interpretability, and computational efficiency. Our goal is to identify a model that balances these factors effectively, providing reliable predictions while being understandable and feasible to train on our dataset.\n"
   ]
  },
  {
   "cell_type": "code",
   "execution_count": 15,
   "metadata": {},
   "outputs": [],
   "source": [
    "from sklearn.linear_model import LogisticRegression\n",
    "from sklearn.tree import DecisionTreeClassifier\n",
    "from sklearn.ensemble import RandomForestClassifier, GradientBoostingClassifier\n",
    "from sklearn.svm import SVC\n",
    "from sklearn.neighbors import KNeighborsClassifier\n",
    "from sklearn.naive_bayes import GaussianNB, BernoulliNB\n",
    "from lightgbm import LGBMClassifier\n",
    "from sklearn.neural_network import MLPClassifier "
   ]
  },
  {
   "cell_type": "code",
   "execution_count": 16,
   "metadata": {},
   "outputs": [],
   "source": [
    "# List of classifiers to try\n",
    "classifiers = {\n",
    "    \"Logistic Regression\": LogisticRegression(),\n",
    "    \"Decision Tree\": DecisionTreeClassifier(max_depth=5, min_samples_split=10, min_samples_leaf=5),\n",
    "    \"Random Forest\": RandomForestClassifier(n_estimators=100, max_depth=5, min_samples_split=10, min_samples_leaf=5, max_features='sqrt'),\n",
    "    \"Gradient Boosting\": GradientBoostingClassifier(n_estimators=100, learning_rate=0.1, max_depth=3),\n",
    "    \"SVM\": SVC(C=1.0, kernel='rbf', gamma='scale'),\n",
    "    \"K-Nearest Neighbors\": KNeighborsClassifier(n_neighbors=5),\n",
    "    \"Gaussian Naive Bayes\": GaussianNB(),\n",
    "    \"Bernoulli Naive Bayes\": BernoulliNB(alpha=0.001, binarize=0.05),\n",
    "    \"LightGBM\": LGBMClassifier(n_estimators=100, learning_rate=0.1, max_depth=-1),\n",
    "    \"MLPClassifier\": MLPClassifier(hidden_layer_sizes=(100,), activation='relu', alpha=0.0001)  \n",
    "}"
   ]
  },
  {
   "cell_type": "code",
   "execution_count": null,
   "metadata": {},
   "outputs": [],
   "source": [
    "# List to store accuracy dataframes\n",
    "accuracy_dfs = []\n",
    "\n",
    "# Train, predict, and evaluate each classifier\n",
    "for clf_name, clf in classifiers.items():\n",
    "    # Train the model\n",
    "    clf.fit(X_train, y_train)\n",
    "\n",
    "    # Predict on the training set\n",
    "    predictions_train = clf.predict(X_train)\n",
    "\n",
    "    # Evaluate the training accuracy\n",
    "    accuracy_train = accuracy_score(y_train, predictions_train)\n",
    "    precision_train = precision_score(y_train, predictions_train)\n",
    "    recall_train = recall_score(y_train, predictions_train)\n",
    "\n",
    "    # Predict on the test set\n",
    "    predictions_test = clf.predict(X_test)\n",
    "\n",
    "    # Evaluate the testing accuracy\n",
    "    accuracy_test = accuracy_score(y_test, predictions_test)\n",
    "    precision_test = precision_score(y_test, predictions_test)\n",
    "    recall_test = recall_score(y_test, predictions_test)\n",
    "\n",
    "\n",
    "    # Create a DataFrame for the current classifier\n",
    "    accuracy_df = pd.DataFrame({\n",
    "        \"Classifier\": [clf_name],\n",
    "        \"Training Accuracy\": [accuracy_train],\n",
    "        \"Training Precision\": [precision_train],\n",
    "        \"Training Recall\": [recall_train],\n",
    "        \"Testing Accuracy\": [accuracy_test],\n",
    "        \"Testing Precision\": [precision_test],\n",
    "        \"Testing Recall\": [recall_test]\n",
    "    })\n",
    "\n",
    "\n",
    "    # Append the DataFrame to the list\n",
    "    accuracy_dfs.append(accuracy_df)\n",
    "\n",
    "# Concatenate all DataFrames into a single DataFrame\n",
    "final_accuracy_df = pd.concat(accuracy_dfs, ignore_index=True)"
   ]
  },
  {
   "cell_type": "code",
   "execution_count": 18,
   "metadata": {},
   "outputs": [
    {
     "data": {
      "text/html": [
       "<div>\n",
       "<style scoped>\n",
       "    .dataframe tbody tr th:only-of-type {\n",
       "        vertical-align: middle;\n",
       "    }\n",
       "\n",
       "    .dataframe tbody tr th {\n",
       "        vertical-align: top;\n",
       "    }\n",
       "\n",
       "    .dataframe thead th {\n",
       "        text-align: right;\n",
       "    }\n",
       "</style>\n",
       "<table border=\"1\" class=\"dataframe\">\n",
       "  <thead>\n",
       "    <tr style=\"text-align: right;\">\n",
       "      <th></th>\n",
       "      <th>Classifier</th>\n",
       "      <th>Testing Accuracy</th>\n",
       "      <th>Testing Precision</th>\n",
       "      <th>Testing Recall</th>\n",
       "    </tr>\n",
       "  </thead>\n",
       "  <tbody>\n",
       "    <tr>\n",
       "      <th>0</th>\n",
       "      <td>Logistic Regression</td>\n",
       "      <td>0.75250</td>\n",
       "      <td>0.722772</td>\n",
       "      <td>0.772487</td>\n",
       "    </tr>\n",
       "    <tr>\n",
       "      <th>1</th>\n",
       "      <td>Decision Tree</td>\n",
       "      <td>0.72500</td>\n",
       "      <td>0.651923</td>\n",
       "      <td>0.896825</td>\n",
       "    </tr>\n",
       "    <tr>\n",
       "      <th>2</th>\n",
       "      <td>Random Forest</td>\n",
       "      <td>0.83125</td>\n",
       "      <td>0.784543</td>\n",
       "      <td>0.886243</td>\n",
       "    </tr>\n",
       "    <tr>\n",
       "      <th>3</th>\n",
       "      <td>Gradient Boosting</td>\n",
       "      <td>0.86125</td>\n",
       "      <td>0.829630</td>\n",
       "      <td>0.888889</td>\n",
       "    </tr>\n",
       "    <tr>\n",
       "      <th>4</th>\n",
       "      <td>SVM</td>\n",
       "      <td>0.89500</td>\n",
       "      <td>0.858537</td>\n",
       "      <td>0.931217</td>\n",
       "    </tr>\n",
       "    <tr>\n",
       "      <th>5</th>\n",
       "      <td>K-Nearest Neighbors</td>\n",
       "      <td>0.89125</td>\n",
       "      <td>0.855746</td>\n",
       "      <td>0.925926</td>\n",
       "    </tr>\n",
       "    <tr>\n",
       "      <th>6</th>\n",
       "      <td>Gaussian Naive Bayes</td>\n",
       "      <td>0.75000</td>\n",
       "      <td>0.719212</td>\n",
       "      <td>0.772487</td>\n",
       "    </tr>\n",
       "    <tr>\n",
       "      <th>7</th>\n",
       "      <td>Bernoulli Naive Bayes</td>\n",
       "      <td>0.65875</td>\n",
       "      <td>0.622378</td>\n",
       "      <td>0.706349</td>\n",
       "    </tr>\n",
       "    <tr>\n",
       "      <th>8</th>\n",
       "      <td>LightGBM</td>\n",
       "      <td>0.89250</td>\n",
       "      <td>0.863184</td>\n",
       "      <td>0.917989</td>\n",
       "    </tr>\n",
       "    <tr>\n",
       "      <th>9</th>\n",
       "      <td>MLPClassifier</td>\n",
       "      <td>0.92625</td>\n",
       "      <td>0.914286</td>\n",
       "      <td>0.931217</td>\n",
       "    </tr>\n",
       "  </tbody>\n",
       "</table>\n",
       "</div>"
      ],
      "text/plain": [
       "              Classifier  Testing Accuracy  Testing Precision  Testing Recall\n",
       "0    Logistic Regression           0.75250           0.722772        0.772487\n",
       "1          Decision Tree           0.72500           0.651923        0.896825\n",
       "2          Random Forest           0.83125           0.784543        0.886243\n",
       "3      Gradient Boosting           0.86125           0.829630        0.888889\n",
       "4                    SVM           0.89500           0.858537        0.931217\n",
       "5    K-Nearest Neighbors           0.89125           0.855746        0.925926\n",
       "6   Gaussian Naive Bayes           0.75000           0.719212        0.772487\n",
       "7  Bernoulli Naive Bayes           0.65875           0.622378        0.706349\n",
       "8               LightGBM           0.89250           0.863184        0.917989\n",
       "9          MLPClassifier           0.92625           0.914286        0.931217"
      ]
     },
     "metadata": {},
     "output_type": "display_data"
    }
   ],
   "source": [
    "display(final_accuracy_df.drop(['Training Precision', 'Training Recall', 'Training Accuracy'], axis=1))"
   ]
  },
  {
   "cell_type": "markdown",
   "metadata": {},
   "source": [
    "# Hyperparameter Tuning\n",
    "The MLP Classifier had the best accuracy on the test set. Let's see if we can improve it."
   ]
  },
  {
   "cell_type": "code",
   "execution_count": null,
   "metadata": {},
   "outputs": [],
   "source": [
    "param_dist = {\n",
    "    'activation': ['identity', 'logistic', 'tanh', 'relu'],\n",
    "    'hidden_layer_sizes': [(n,) for n in range(100, 300)]} # for 1 layer\n",
    "\n",
    "clf = MLPClassifier(alpha=0.0001)\n",
    "\n",
    "rand_search = RandomizedSearchCV(clf, \n",
    "                                 param_distributions=param_dist, \n",
    "                                 n_iter=2,  # Adjust based on your computational budget\n",
    "                                 cv=2)  # Or another number, based on how thorough you want the cross-validation to be\n",
    "\n",
    "rand_search.fit(X_train, y_train)"
   ]
  },
  {
   "cell_type": "code",
   "execution_count": 20,
   "metadata": {},
   "outputs": [
    {
     "name": "stdout",
     "output_type": "stream",
     "text": [
      "Best hyperparameters: {'hidden_layer_sizes': (290,), 'activation': 'relu'}\n"
     ]
    }
   ],
   "source": [
    "# Create a variable for the best model\n",
    "best_clf  = rand_search.best_estimator_\n",
    "\n",
    "# Print the best hyperparameters\n",
    "print('Best hyperparameters:',  rand_search.best_params_)"
   ]
  },
  {
   "cell_type": "code",
   "execution_count": 21,
   "metadata": {},
   "outputs": [
    {
     "name": "stdout",
     "output_type": "stream",
     "text": [
      "Accuracy: 0.9475\n",
      "Precision: 0.9352331606217616\n",
      "Recall: 0.955026455026455\n",
      "ROC: 0.9478923744326587\n"
     ]
    }
   ],
   "source": [
    "y_pred = best_clf.predict(X_test)\n",
    "\n",
    "accuracy = accuracy_score(y_test, y_pred)\n",
    "precision = precision_score(y_test, y_pred)\n",
    "recall = recall_score(y_test, y_pred)\n",
    "roc = roc_auc_score(y_test, y_pred)\n",
    "\n",
    "print(\"Accuracy:\", accuracy)\n",
    "print(\"Precision:\", precision)\n",
    "print(\"Recall:\", recall)\n",
    "print(\"ROC:\", roc)"
   ]
  },
  {
   "cell_type": "code",
   "execution_count": 22,
   "metadata": {},
   "outputs": [
    {
     "data": {
      "image/png": "[encoded data removed]",
      "text/plain": [
       "<Figure size 640x480 with 2 Axes>"
      ]
     },
     "metadata": {},
     "output_type": "display_data"
    }
   ],
   "source": [
    "# Generate predictions with the best model\n",
    "y_pred = best_clf.predict(X_test)\n",
    "\n",
    "# Create the confusion matrix\n",
    "cm = confusion_matrix(y_test, y_pred)\n",
    "\n",
    "ConfusionMatrixDisplay(confusion_matrix=cm).plot();"
   ]
  },
  {
   "cell_type": "markdown",
   "metadata": {},
   "source": [
    "# Can we do a bit better?\n",
    "Yes! Let's build a neural network to classify the apples using TensorFlow"
   ]
  },
  {
   "cell_type": "code",
   "execution_count": 130,
   "metadata": {},
   "outputs": [],
   "source": [
    "import tensorflow as tf\n",
    "from sklearn.preprocessing import StandardScaler\n",
    "from sklearn.metrics import classification_report"
   ]
  },
  {
   "cell_type": "code",
   "execution_count": 57,
   "metadata": {},
   "outputs": [],
   "source": [
    "sc = StandardScaler()\n",
    "\n",
    "x_train = sc.fit_transform(X_train)\n",
    "x_test = sc.transform(X_test)\n",
    "\n",
    "# convert to tensor\n",
    "train_ds = tf.data.Dataset.from_tensor_slices((x_train, y_train)).batch(32)\n",
    "test_ds = tf.data.Dataset.from_tensor_slices((x_test, y_test)).batch(32)"
   ]
  },
  {
   "cell_type": "code",
   "execution_count": 118,
   "metadata": {},
   "outputs": [
    {
     "name": "stdout",
     "output_type": "stream",
     "text": [
      "Model: \"sequential_24\"\n",
      "_________________________________________________________________\n",
      " Layer (type)                Output Shape              Param #   \n",
      "=================================================================\n",
      " dense_98 (Dense)            (None, 256)               2048      \n",
      "                                                                 \n",
      " dropout_66 (Dropout)        (None, 256)               0         \n",
      "                                                                 \n",
      " dense_99 (Dense)            (None, 256)               65792     \n",
      "                                                                 \n",
      " dropout_67 (Dropout)        (None, 256)               0         \n",
      "                                                                 \n",
      " dense_100 (Dense)           (None, 1)                 257       \n",
      "                                                                 \n",
      "=================================================================\n",
      "Total params: 68097 (266.00 KB)\n",
      "Trainable params: 68097 (266.00 KB)\n",
      "Non-trainable params: 0 (0.00 Byte)\n",
      "_________________________________________________________________\n"
     ]
    }
   ],
   "source": [
    "# Define the neural network model architecture\n",
    "model = tf.keras.Sequential([\n",
    "    # input_shape specifies the shape of input data (x_train.shape[1],) represents the number of features.\n",
    "    tf.keras.layers.Dense(256, activation='relu', input_shape=(x_train.shape[1],)),\n",
    "    tf.keras.layers.Dropout(0.5),\n",
    "\n",
    "    tf.keras.layers.Dense(256, activation='relu'),   \n",
    "    tf.keras.layers.Dropout(0.5),\n",
    "\n",
    "    # Output layer with a single unit and sigmoid activation function for binary classification.\n",
    "    tf.keras.layers.Dense(1, activation='sigmoid')\n",
    "])\n",
    "\n",
    "# Compile the model with specified optimizer, loss function, and evaluation metric(s)\n",
    "model.compile(optimizer='adam',    # Optimizer (Adam)\n",
    "              loss='binary_crossentropy',  # Loss function for binary classification\n",
    "              metrics=['accuracy'])        # Evaluation metric(s), accuracy in this case\n",
    "\n",
    "# Display a summary of the model architecture, including the number of parameters\n",
    "model.summary()\n"
   ]
  },
  {
   "cell_type": "code",
   "execution_count": 119,
   "metadata": {},
   "outputs": [],
   "source": [
    "# Define callbacks for model training\n",
    "callbacks = [\n",
    "    # ReduceLROnPlateau callback: Reduces learning rate when validation accuracy stops improving\n",
    "    tf.keras.callbacks.ReduceLROnPlateau(\n",
    "        monitor='val_accuracy',  # Metric to monitor (validation accuracy)\n",
    "        patience=20,             # Number of epochs with no improvement before reducing learning rate\n",
    "        verbose=0,               # Verbosity mode (0: silent, 1: progress bar, 2: one line per epoch)\n",
    "        factor=0.9               # Factor by which the learning rate will be reduced\n",
    "    ),\n",
    "    \n",
    "    # EarlyStopping callback: Stops training when validation accuracy stops improving\n",
    "    tf.keras.callbacks.EarlyStopping(\n",
    "        monitor='val_accuracy',  # Metric to monitor (validation accuracy)\n",
    "        patience=50,             # Number of epochs with no improvement before stopping training\n",
    "        verbose=0,               # Verbosity mode (0: silent, 1: progress bar, 2: one line per epoch)\n",
    "        restore_best_weights=True  # Whether to restore model weights to the best weights found during training\n",
    "    )\n",
    "]\n",
    "\n",
    "# Compile the model\n",
    "model.compile(optimizer='adam',\n",
    "              loss='binary_crossentropy',\n",
    "              metrics=['accuracy'])\n",
    "\n",
    "# Train the model with callbacks\n",
    "history = model.fit(X_train, y_train, epochs=200, batch_size=32, validation_split=0.2, verbose=0, callbacks=callbacks)"
   ]
  },
  {
   "cell_type": "code",
   "execution_count": 120,
   "metadata": {},
   "outputs": [
    {
     "name": "stdout",
     "output_type": "stream",
     "text": [
      "25/25 [==============================] - 0s 3ms/step - loss: 0.1571 - accuracy: 0.9513\n"
     ]
    },
    {
     "data": {
      "text/plain": [
       "[0.15712271630764008, 0.9512500166893005]"
      ]
     },
     "execution_count": 120,
     "metadata": {},
     "output_type": "execute_result"
    }
   ],
   "source": [
    "model.evaluate(test_ds)"
   ]
  },
  {
   "cell_type": "code",
   "execution_count": 128,
   "metadata": {},
   "outputs": [
    {
     "data": {
      "image/png": "[encoded data removed]",
      "text/plain": [
       "<Figure size 640x480 with 1 Axes>"
      ]
     },
     "metadata": {},
     "output_type": "display_data"
    }
   ],
   "source": [
    "# Plot accuracy\n",
    "plt.plot(history.history['accuracy'])\n",
    "plt.plot(history.history['val_accuracy'])\n",
    "plt.title('Model Accuracy vs Epoch')\n",
    "plt.ylabel('Accuracy')\n",
    "plt.xlabel('Epoch')\n",
    "plt.legend(['train', 'test'], loc='upper left')\n",
    "plt.show()"
   ]
  },
  {
   "cell_type": "code",
   "execution_count": null,
   "metadata": {},
   "outputs": [
    {
     "name": "stdout",
     "output_type": "stream",
     "text": [
      "25/25 [==============================] - 0s 3ms/step\n",
      "              precision    recall  f1-score   support\n",
      "\n",
      "           0       0.96      0.95      0.95       422\n",
      "           1       0.94      0.96      0.95       378\n",
      "\n",
      "    accuracy                           0.95       800\n",
      "   macro avg       0.95      0.95      0.95       800\n",
      "weighted avg       0.95      0.95      0.95       800\n",
      "\n"
     ]
    }
   ],
   "source": [
    "\n",
    "y_pred = model.predict(x_test)\n",
    "y_pred = np.where(y_pred > 0.5, 1, 0)\n",
    "print(classification_report(y_test, y_pred))"
   ]
  }
 ],
 "metadata": {
  "kernelspec": {
   "display_name": "Python 3",
   "language": "python",
   "name": "python3"
  },
  "language_info": {
   "codemirror_mode": {
    "name": "ipython",
    "version": 3
   },
   "file_extension": ".py",
   "mimetype": "text/x-python",
   "name": "python",
   "nbconvert_exporter": "python",
   "pygments_lexer": "ipython3",
   "version": "3.10.11"
  }
 },
 "nbformat": 4,
 "nbformat_minor": 2
}
